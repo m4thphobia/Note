{
 "cells": [
  {
   "cell_type": "markdown",
   "id": "03211fa4-4357-45aa-9152-5ee1e3722a22",
   "metadata": {},
   "source": [
    "## 劣マルチンゲールにかかわる不等式\n",
    "\n",
    "(劣)マルチンゲール${X_n}_n$に対して、収束定理や任意抽出定理など色々な性質が成り立つが、自国に関する最大値の可積分性や$L^p$ノルムなどについても色々な不等式が成立する。特に, $\\underset{0\\leq j\\leq n}{\\sup}|X_j|$に関する量を$|X_n|$で評価できる。様々な場面で**マルチンゲールの項の大きさを評価できる**。"
   ]
  },
  {
   "cell_type": "markdown",
   "id": "bff951ad-b413-4fba-a37e-4433a9f95bc1",
   "metadata": {},
   "source": [
    "### 優マルチンゲールの場合(非負ではない)(優マルチンから一般化していく)\n",
    "\n",
    "$\\{X_n\\}_{n\\geq 0}: {\\mathcal F_n}-$優マルチンゲール, $\\lambda >0$とする。Tailの評価を行う。\n",
    "\n",
    "$$\n",
    "\\begin{aligned}\n",
    "&(a)\\text{右辺はラムダに依らない量になっているので、最大値がラムダ以下になる確率が少なくともラムダ分の1のオーダーで減っているといえる。可積分性からもそういうことはわかるけど、この評価を使うとあとあと強いことが言える。}\\\\\n",
    "&(b)\\text{minimumも同じ}\\\\\n",
    "&(c)\\text{a, bから直ちにわかる}\n",
    "\\end{aligned}\n",
    "$$\n",
    "\n",
    "[proof]\n",
    "(a) 任意抽出定理の$tau$が有界(どうせ時刻nまでしか興味ないのでそれを超えてたらカット)なバージョンがキー。$\\tilde X_m$は途中から(n以降)変わらないマルチンゲールなのでclosable → Optional Sampling Theoremが使える。(有界なところでで区切るのはよく使うアイデア) → 1行目\n",
    "\n",
    "$$\n",
    "\\tilde X_m = \\left\\{\n",
    "\\begin{array}{ll}\n",
    "X_m & m \\leq n \\\\\n",
    "X_n & m > n\n",
    "\\end{array}\n",
    "\\right.\n",
    "$$\n",
    "\n",
    "残りは当然の帰結\n",
    "\n",
    "(b) (a)と同じ\n",
    "\n",
    "(c) (a)+(b)((c)の左辺は絶対値なので > < の2つに分けられることに注意)。どんな確率変数にもマルコフの不等式は成り立つが、maxの確率がmaxの期待値ではなく期待値のmaxで抑えられていることgはポイント。\n",
    "\n",
    "### 劣マルチンゲールの場合(-Xnが優マルチンであることを使えばすぐ出る)\n",
    "\n",
    "### Tailの$L^p$ノルムの評価\n",
    "\n",
    "マルコフ不等式からmaxの期待値で抑えられるのは当然だが、マルチンゲールだと最後の値で抑えられる。これは驚くべき結果。\n",
    "\n",
    "[証明]\n",
    "条件付き期待値は$L^p$ノルムについてコントラクション→一つ目の不等式\n",
    "\n",
    "$\\{|X_j|^p\\}_{0\\leq j \\leq n}$は劣マルチンゲール → 劣マルチンのTailの評価から\n",
    "\n",
    "\n",
    "\n"
   ]
  },
  {
   "cell_type": "markdown",
   "id": "04388d21-6810-4423-a9bf-bde1821ddd35",
   "metadata": {},
   "source": [
    "今度は$L^p$ノルムを評価できる。マルチンゲール収束定理が$L^p$収束であるという十分条件。\n",
    "\n",
    "非負の劣マルチン → マルチン\n",
    "係数に定数はかかるが、最後の時刻で$L^p$を評価できる。\n",
    "\n",
    "[proof]\n",
    "難しいが、キーとなってるのはTailの評価。Mまでで切るのが大事。2行目の変形はよくやる。2行目のにコメはフビニ。\n",
    "\n",
    "期待値を確率の言葉で評価したいときに無理やり積分を持ち出すのはよくやる。以下の変形にはX_n$が非負であることが効いている。\n",
    "\n",
    "$$\n",
    "E[\\mathbb 1_{t\\leq X_{n}^{*}}] = P(t\\leq X_{n}^{*}) = P(t \\leq \\underset{0\\leq j\\leq n}{\\max} |X_j|) = P(t \\leq \\underset{0\\leq j\\leq n}{\\max} X_j) \\leq E[X_n \\mathbb 1_{t\\leq X_{n}^{*}}]\n",
    "$$\n",
    "\n",
    "最後にもう一回フビニを使って元に戻す。$(X_{n}^{*}\\land M)$"
   ]
  },
  {
   "cell_type": "code",
   "execution_count": null,
   "id": "3c2434b6-9547-4809-9e45-e93a30be773f",
   "metadata": {},
   "outputs": [],
   "source": []
  }
 ],
 "metadata": {
  "kernelspec": {
   "display_name": "Python 3 (ipykernel)",
   "language": "python",
   "name": "python3"
  },
  "language_info": {
   "codemirror_mode": {
    "name": "ipython",
    "version": 3
   },
   "file_extension": ".py",
   "mimetype": "text/x-python",
   "name": "python",
   "nbconvert_exporter": "python",
   "pygments_lexer": "ipython3",
   "version": "3.10.13"
  }
 },
 "nbformat": 4,
 "nbformat_minor": 5
}
