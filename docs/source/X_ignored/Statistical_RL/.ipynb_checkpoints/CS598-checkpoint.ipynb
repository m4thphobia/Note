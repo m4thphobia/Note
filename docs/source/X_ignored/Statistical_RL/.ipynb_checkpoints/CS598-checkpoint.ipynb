{
 "cells": [
  {
   "cell_type": "markdown",
   "id": "f55c6da4-7f18-40f6-ac78-172a1ac150aa",
   "metadata": {},
   "source": [
    "## Pure RL Theory with focus on sample complexity analysis"
   ]
  },
  {
   "cell_type": "markdown",
   "id": "1239570c-7321-4348-a2c3-651933ae461d",
   "metadata": {},
   "source": [
    "In a nuts shell, RL is a decision making in probablistic dynamical enviroment.\n",
    "+ Sample Complexity\n",
    "+ Convergence ratio\n",
    "+ Generalization Performance "
   ]
  },
  {
   "cell_type": "code",
   "execution_count": null,
   "id": "a2dcce22-3fa4-43c3-a4c2-541e48174d6e",
   "metadata": {},
   "outputs": [],
   "source": []
  }
 ],
 "metadata": {
  "kernelspec": {
   "display_name": "Python 3 (ipykernel)",
   "language": "python",
   "name": "python3"
  },
  "language_info": {
   "codemirror_mode": {
    "name": "ipython",
    "version": 3
   },
   "file_extension": ".py",
   "mimetype": "text/x-python",
   "name": "python",
   "nbconvert_exporter": "python",
   "pygments_lexer": "ipython3",
   "version": "3.10.13"
  }
 },
 "nbformat": 4,
 "nbformat_minor": 5
}
