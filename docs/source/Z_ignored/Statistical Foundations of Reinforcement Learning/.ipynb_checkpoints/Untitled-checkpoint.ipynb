{
 "cells": [
  {
   "cell_type": "markdown",
   "id": "51f90efb-6b94-474c-8def-94e57b4b9569",
   "metadata": {},
   "source": [
    "https://rltheorybook.github.io/colt21tutorial"
   ]
  },
  {
   "cell_type": "code",
   "execution_count": null,
   "id": "502fb074-03ad-46e1-a5d4-00a5aa1ea8d3",
   "metadata": {},
   "outputs": [],
   "source": []
  }
 ],
 "metadata": {
  "kernelspec": {
   "display_name": "Python 3 (ipykernel)",
   "language": "python",
   "name": "python3"
  },
  "language_info": {
   "codemirror_mode": {
    "name": "ipython",
    "version": 3
   },
   "file_extension": ".py",
   "mimetype": "text/x-python",
   "name": "python",
   "nbconvert_exporter": "python",
   "pygments_lexer": "ipython3",
   "version": "3.10.13"
  }
 },
 "nbformat": 4,
 "nbformat_minor": 5
}
