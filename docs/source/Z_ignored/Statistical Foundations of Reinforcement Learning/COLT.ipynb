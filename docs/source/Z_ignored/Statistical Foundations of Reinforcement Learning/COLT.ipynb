{
 "cells": [
  {
   "cell_type": "markdown",
   "id": "d895ea50-b8fd-4b04-bace-5349346fcd2f",
   "metadata": {},
   "source": [
    "https://rltheorybook.github.io/colt21tutorial"
   ]
  },
  {
   "cell_type": "code",
   "execution_count": null,
   "id": "0874b909-4b1a-463c-9e94-ca8fd84040bb",
   "metadata": {},
   "outputs": [],
   "source": []
  }
 ],
 "metadata": {
  "kernelspec": {
   "display_name": "",
   "name": ""
  },
  "language_info": {
   "name": ""
  }
 },
 "nbformat": 4,
 "nbformat_minor": 5
}
