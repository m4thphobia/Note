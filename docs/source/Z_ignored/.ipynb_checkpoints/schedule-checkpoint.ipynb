{
 "cells": [
  {
   "cell_type": "markdown",
   "id": "5c679d62-f3ac-4c24-8592-f11d72d60d8c",
   "metadata": {},
   "source": [
    "## Schedule\n",
    "\n",
    "✓英語　\n",
    "✓jax-rl\n",
    "✓確率論\n",
    "✓関数解析\n",
    "bandit optimization\n",
    "連続最適化\n",
    "C598\n",
    "コンピュータの理論\n",
    "筋トレ　 "
   ]
  },
  {
   "cell_type": "markdown",
   "id": "77b4389f-36c7-4dbf-96ef-2fc0e4060653",
   "metadata": {},
   "source": [
    "## Jax-rl\n",
    "\n",
    "+ Q-learning 6/11\n",
    "+ Sarsa 6/11\n",
    "+ DQN 6/11\n",
    "+ Deep SARSA 6/11\n",
    "+ Actor-Critic\n",
    "+ DDPG 6/12\n",
    "+ TRPO 6/13\n",
    "+ PPO 6/13\n",
    "+ SAC 6/14\n",
    "+ DAU 6/15\n",
    "+ NEW 6/16~18\n",
    "\n",
    "#! TODO\n",
    "+ trainer module for 1.Value Based 2.Policy Based\n",
    "+ trainer module wants to include wandb\n",
    "+ plot rewards from several experiment into one figure\n",
    "+ wrap environment and find dt parameter of simulater and interval of observations\n",
    "+ compare 1. dau vs new (main) 2. (sac, ddpg, ppo)_cont vs new_cont 3. (sac, ddpg, ppo)_disc vs new_cont 4. (sac, ddpg, ppo)_disc vs (sac_with, ddpg_with, ppo_with)_cont\n",
    "+ optuna"
   ]
  },
  {
   "cell_type": "markdown",
   "id": "ac2e9b96-6bcd-4644-82a8-62d498ad5062",
   "metadata": {},
   "source": [
    "## 連続最適化\n",
    "### Chap0 陰関数定理\n",
    "### Chap1 "
   ]
  },
  {
   "cell_type": "markdown",
   "id": "f5290c81-2fc6-46c4-98c2-e17c8dcdfed3",
   "metadata": {},
   "source": [
    "## C598\n",
    "###  lecture_0 Overview 6/11"
   ]
  },
  {
   "cell_type": "markdown",
   "id": "297b3643-a314-437b-a4f8-0240a2a2b8fe",
   "metadata": {},
   "source": [
    "## Bandit Algorithms\n",
    "\n",
    "### Introduction 6/12"
   ]
  },
  {
   "cell_type": "markdown",
   "id": "8d342f1a-efe4-482b-a969-d606fabc7d58",
   "metadata": {},
   "source": [
    "## 確率論\n",
    "### 佐々田槙子\n",
    "### 舟木\n",
    "### 中島"
   ]
  },
  {
   "cell_type": "code",
   "execution_count": null,
   "id": "4a019e26-65b7-49a7-8b91-eac9fdf8fa60",
   "metadata": {},
   "outputs": [],
   "source": []
  }
 ],
 "metadata": {
  "kernelspec": {
   "display_name": "Python 3 (ipykernel)",
   "language": "python",
   "name": "python3"
  },
  "language_info": {
   "codemirror_mode": {
    "name": "ipython",
    "version": 3
   },
   "file_extension": ".py",
   "mimetype": "text/x-python",
   "name": "python",
   "nbconvert_exporter": "python",
   "pygments_lexer": "ipython3",
   "version": "3.10.13"
  }
 },
 "nbformat": 4,
 "nbformat_minor": 5
}
